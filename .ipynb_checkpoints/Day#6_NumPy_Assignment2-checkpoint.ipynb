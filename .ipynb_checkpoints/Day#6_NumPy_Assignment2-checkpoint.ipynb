{
 "cells": [
  {
   "cell_type": "markdown",
   "id": "5ffb93ae",
   "metadata": {},
   "source": [
    "# Q1: Import numpy library"
   ]
  },
  {
   "cell_type": "code",
   "execution_count": 1,
   "id": "936d4703",
   "metadata": {},
   "outputs": [],
   "source": [
    "import numpy as np"
   ]
  },
  {
   "cell_type": "markdown",
   "id": "b6991a89",
   "metadata": {},
   "source": [
    "# Q2: Generate a sequence of 15 floats using linspace() function"
   ]
  },
  {
   "cell_type": "code",
   "execution_count": 2,
   "id": "43bf04a5",
   "metadata": {},
   "outputs": [
    {
     "data": {
      "text/plain": [
       "array([ 0.        ,  0.30612245,  0.6122449 ,  0.91836735,  1.2244898 ,\n",
       "        1.53061224,  1.83673469,  2.14285714,  2.44897959,  2.75510204,\n",
       "        3.06122449,  3.36734694,  3.67346939,  3.97959184,  4.28571429,\n",
       "        4.59183673,  4.89795918,  5.20408163,  5.51020408,  5.81632653,\n",
       "        6.12244898,  6.42857143,  6.73469388,  7.04081633,  7.34693878,\n",
       "        7.65306122,  7.95918367,  8.26530612,  8.57142857,  8.87755102,\n",
       "        9.18367347,  9.48979592,  9.79591837, 10.10204082, 10.40816327,\n",
       "       10.71428571, 11.02040816, 11.32653061, 11.63265306, 11.93877551,\n",
       "       12.24489796, 12.55102041, 12.85714286, 13.16326531, 13.46938776,\n",
       "       13.7755102 , 14.08163265, 14.3877551 , 14.69387755, 15.        ])"
      ]
     },
     "execution_count": 2,
     "metadata": {},
     "output_type": "execute_result"
    }
   ],
   "source": [
    "np.linspace(0,15)"
   ]
  },
  {
   "cell_type": "markdown",
   "id": "7144bba8",
   "metadata": {},
   "source": [
    "# Q3: Create a 3-D array in shape (2, 2, 3) containing the four arrays given below \n",
    "Note : the array's name is up to you.\n",
    "\n",
    "|      |       |          |         |\n",
    "|------| ----- | -------- | ------- |\n",
    "|arr1 | 1.1    | 2.1       | 3.1        |\n",
    "|arr2 | 4.1    | 5.1       | 6.1        |\n",
    "|arr3 | 7.1    | 8.1       | 9.1        |\n",
    "|arr4 | 10.1   | 11.1      | 12.1       |"
   ]
  },
  {
   "cell_type": "code",
   "execution_count": 3,
   "id": "c1c3f9dc",
   "metadata": {},
   "outputs": [
    {
     "data": {
      "text/plain": [
       "(2, 2, 3)"
      ]
     },
     "execution_count": 3,
     "metadata": {},
     "output_type": "execute_result"
    }
   ],
   "source": [
    "Array3D = np.array([[[1.1,2.1,3.1],[4.1,5.1,6.1]],[[7.1,8.1,9.1],[10.1,11.1,12.1]]])\n",
    "Array3D.shape"
   ]
  },
  {
   "cell_type": "code",
   "execution_count": 4,
   "id": "98517e1f",
   "metadata": {},
   "outputs": [
    {
     "data": {
      "text/plain": [
       "array([[[ 1.1,  2.1,  3.1],\n",
       "        [ 4.1,  5.1,  6.1]],\n",
       "\n",
       "       [[ 7.1,  8.1,  9.1],\n",
       "        [10.1, 11.1, 12.1]]])"
      ]
     },
     "execution_count": 4,
     "metadata": {},
     "output_type": "execute_result"
    }
   ],
   "source": [
    "Array3D"
   ]
  },
  {
   "cell_type": "markdown",
   "id": "807acbf6",
   "metadata": {},
   "source": [
    "# Q4: Print the following:\n",
    "Note: use the same array from Q3.\n",
    "- Array's type.\n",
    "- Array's elements datatype.\n",
    "- Array's shape.\n",
    "- Array's size.\n",
    "- Array's dimention."
   ]
  },
  {
   "cell_type": "code",
   "execution_count": 5,
   "id": "6e90d6a0",
   "metadata": {},
   "outputs": [
    {
     "name": "stdout",
     "output_type": "stream",
     "text": [
      "<class 'numpy.ndarray'>\n",
      "float64\n",
      "(2, 2, 3)\n",
      "12\n",
      "3\n"
     ]
    }
   ],
   "source": [
    "print(type(Array3D))\n",
    "print(Array3D.dtype)\n",
    "print(Array3D.shape)\n",
    "print(Array3D.size)\n",
    "print(Array3D.ndim)"
   ]
  },
  {
   "cell_type": "markdown",
   "id": "db4958b5",
   "metadata": {},
   "source": [
    "# Q5:  Change the array dimention from 3-D to 4-D\n",
    "Note: use the same array from Q3.\n",
    "- Create a new array to hold the changes. \n",
    "- Print the new array's dimention and shape."
   ]
  },
  {
   "cell_type": "code",
   "execution_count": 6,
   "id": "e9f5c88c",
   "metadata": {},
   "outputs": [
    {
     "data": {
      "text/plain": [
       "array([[[[ 1.1],\n",
       "         [ 2.1],\n",
       "         [ 3.1]],\n",
       "\n",
       "        [[ 4.1],\n",
       "         [ 5.1],\n",
       "         [ 6.1]]],\n",
       "\n",
       "\n",
       "       [[[ 7.1],\n",
       "         [ 8.1],\n",
       "         [ 9.1]],\n",
       "\n",
       "        [[10.1],\n",
       "         [11.1],\n",
       "         [12.1]]]])"
      ]
     },
     "execution_count": 6,
     "metadata": {},
     "output_type": "execute_result"
    }
   ],
   "source": [
    "Array4D = Array3D.reshape(2,2,3,1)\n",
    "Array4D"
   ]
  },
  {
   "cell_type": "code",
   "execution_count": 7,
   "id": "09f5ca4d",
   "metadata": {},
   "outputs": [
    {
     "name": "stdout",
     "output_type": "stream",
     "text": [
      "(2, 2, 3, 1)\n",
      "4\n"
     ]
    }
   ],
   "source": [
    "print(Array4D.shape)\n",
    "print(Array4D.ndim)"
   ]
  },
  {
   "cell_type": "markdown",
   "id": "454f2504",
   "metadata": {},
   "source": [
    "# Q6: Change the array's elements datatype to integer  \n",
    "Note: use the same array from Q5.\n",
    "\n",
    "- Create a new array to hold the changes. \n",
    "- Print the new array."
   ]
  },
  {
   "cell_type": "code",
   "execution_count": 8,
   "id": "8135b045",
   "metadata": {},
   "outputs": [
    {
     "data": {
      "text/plain": [
       "array([[[[ 1],\n",
       "         [ 2],\n",
       "         [ 3]],\n",
       "\n",
       "        [[ 4],\n",
       "         [ 5],\n",
       "         [ 6]]],\n",
       "\n",
       "\n",
       "       [[[ 7],\n",
       "         [ 8],\n",
       "         [ 9]],\n",
       "\n",
       "        [[10],\n",
       "         [11],\n",
       "         [12]]]])"
      ]
     },
     "execution_count": 8,
     "metadata": {},
     "output_type": "execute_result"
    }
   ],
   "source": [
    "Array4DInt = Array4D.astype('int')\n",
    "Array4DInt"
   ]
  },
  {
   "cell_type": "markdown",
   "id": "ab90badc",
   "metadata": {},
   "source": [
    "# Q7: Print all array's elements using for loop\n",
    "Note: use the same array from Q6.\n",
    "\n",
    "Hint: use nditer()"
   ]
  },
  {
   "cell_type": "code",
   "execution_count": 9,
   "id": "a0d58d15",
   "metadata": {},
   "outputs": [
    {
     "name": "stdout",
     "output_type": "stream",
     "text": [
      "1\n",
      "2\n",
      "3\n",
      "4\n",
      "5\n",
      "6\n",
      "7\n",
      "8\n",
      "9\n",
      "10\n",
      "11\n",
      "12\n"
     ]
    }
   ],
   "source": [
    "for i in Array4DInt.flat:\n",
    "    print(i)"
   ]
  },
  {
   "cell_type": "markdown",
   "id": "afa8b5f3",
   "metadata": {},
   "source": [
    "# Q8:  Print number 8 using array slicing\n",
    "Note: use the same array from Q6."
   ]
  },
  {
   "cell_type": "code",
   "execution_count": 10,
   "id": "6e12e2d7",
   "metadata": {},
   "outputs": [
    {
     "data": {
      "text/plain": [
       "array([[8]])"
      ]
     },
     "execution_count": 10,
     "metadata": {},
     "output_type": "execute_result"
    }
   ],
   "source": [
    "Array4DInt[1,0:1,1]"
   ]
  },
  {
   "cell_type": "markdown",
   "id": "e2e71895",
   "metadata": {},
   "source": [
    "# Q9: Print number 5 and number 6 using array slicing\n",
    "Note: use the same array from Q6."
   ]
  },
  {
   "cell_type": "code",
   "execution_count": 11,
   "id": "efa9c55d",
   "metadata": {},
   "outputs": [
    {
     "data": {
      "text/plain": [
       "array([[[[ 1],\n",
       "         [ 2],\n",
       "         [ 3]],\n",
       "\n",
       "        [[ 4],\n",
       "         [ 5],\n",
       "         [ 6]]],\n",
       "\n",
       "\n",
       "       [[[ 7],\n",
       "         [ 8],\n",
       "         [ 9]],\n",
       "\n",
       "        [[10],\n",
       "         [11],\n",
       "         [12]]]])"
      ]
     },
     "execution_count": 11,
     "metadata": {},
     "output_type": "execute_result"
    }
   ],
   "source": [
    "Array4DInt"
   ]
  },
  {
   "cell_type": "code",
   "execution_count": 12,
   "id": "ed164c71",
   "metadata": {},
   "outputs": [
    {
     "data": {
      "text/plain": [
       "(array([0]), array([1]), array([1]), array([0]))"
      ]
     },
     "execution_count": 12,
     "metadata": {},
     "output_type": "execute_result"
    }
   ],
   "source": [
    "np.where(Array4DInt == 5)"
   ]
  },
  {
   "cell_type": "code",
   "execution_count": 13,
   "id": "5d242dcb",
   "metadata": {},
   "outputs": [
    {
     "data": {
      "text/plain": [
       "array([[5],\n",
       "       [6]])"
      ]
     },
     "execution_count": 13,
     "metadata": {},
     "output_type": "execute_result"
    }
   ],
   "source": [
    "Array4DInt[0][1][1:]"
   ]
  },
  {
   "cell_type": "markdown",
   "id": "e5d63cd3",
   "metadata": {},
   "source": [
    "# Q10: Search for number 8 using where()\n",
    "Note: use the same array from Q6.\n",
    "\n",
    "Note: where() is only used with small data.\n",
    "\n",
    "*the output represents the path of the index that leads to number 8*"
   ]
  },
  {
   "cell_type": "code",
   "execution_count": 14,
   "id": "ddaf0146",
   "metadata": {},
   "outputs": [
    {
     "data": {
      "text/plain": [
       "array([8])"
      ]
     },
     "execution_count": 14,
     "metadata": {},
     "output_type": "execute_result"
    }
   ],
   "source": [
    "Array4DInt[np.where(Array4DInt == 8)]"
   ]
  },
  {
   "cell_type": "markdown",
   "id": "c89f41ad",
   "metadata": {},
   "source": [
    "# Q11: Reshape the array as the following\n",
    "\n",
    "    array([[[ 1, 2],\n",
    "            [ 3,  4],\n",
    "            [ 5,  6]],\n",
    "\n",
    "           [[ 7,  8],\n",
    "            [ 9, 10],\n",
    "            [11, 12]]])\n",
    "            \n",
    " Note: use the same array from Q6."
   ]
  },
  {
   "cell_type": "code",
   "execution_count": 15,
   "id": "d9b632bd",
   "metadata": {},
   "outputs": [
    {
     "data": {
      "text/plain": [
       "array([[[ 1,  2],\n",
       "        [ 3,  4],\n",
       "        [ 5,  6]],\n",
       "\n",
       "       [[ 7,  8],\n",
       "        [ 9, 10],\n",
       "        [11, 12]]])"
      ]
     },
     "execution_count": 15,
     "metadata": {},
     "output_type": "execute_result"
    }
   ],
   "source": [
    "ArrayNew = Array4DInt.reshape(2,3,2)\n",
    "ArrayNew"
   ]
  },
  {
   "cell_type": "markdown",
   "id": "539c16b1",
   "metadata": {},
   "source": [
    "# Q12: Join the given arrays below "
   ]
  },
  {
   "cell_type": "code",
   "execution_count": 16,
   "id": "3f06c599",
   "metadata": {},
   "outputs": [],
   "source": [
    "    arr1 = np.array([['A', 'B'], ['E', 'F']])\n",
    "    arr2 = np.array([['C', 'D'], ['G', 'H']])"
   ]
  },
  {
   "cell_type": "markdown",
   "id": "96bd52a4",
   "metadata": {},
   "source": [
    "## Q12.1: Join the arrays without specifying the axis "
   ]
  },
  {
   "cell_type": "code",
   "execution_count": 17,
   "id": "d6acdeaf",
   "metadata": {},
   "outputs": [
    {
     "data": {
      "text/plain": [
       "array([['A', 'B'],\n",
       "       ['E', 'F'],\n",
       "       ['C', 'D'],\n",
       "       ['G', 'H']], dtype='<U1')"
      ]
     },
     "execution_count": 17,
     "metadata": {},
     "output_type": "execute_result"
    }
   ],
   "source": [
    "arr3 = np.concatenate((arr1 , arr2))\n",
    "arr3"
   ]
  },
  {
   "cell_type": "markdown",
   "id": "1a37dd47",
   "metadata": {},
   "source": [
    "# Q12.2: Join the arrays along rows with axis = 1 "
   ]
  },
  {
   "cell_type": "code",
   "execution_count": 18,
   "id": "b849658c",
   "metadata": {},
   "outputs": [
    {
     "data": {
      "text/plain": [
       "array([['A', 'B', 'C', 'D'],\n",
       "       ['E', 'F', 'G', 'H']], dtype='<U1')"
      ]
     },
     "execution_count": 18,
     "metadata": {},
     "output_type": "execute_result"
    }
   ],
   "source": [
    "arr4 = np.concatenate((arr1 , arr2), axis=1)\n",
    "arr4"
   ]
  },
  {
   "cell_type": "markdown",
   "id": "7296eecf",
   "metadata": {},
   "source": [
    "# Q13: Split the array into two arrays with axis = 1, each array should contain four arrays. \n",
    "Note: use the same array from Q12.1"
   ]
  },
  {
   "cell_type": "code",
   "execution_count": 19,
   "id": "7f7f5e49",
   "metadata": {},
   "outputs": [
    {
     "data": {
      "text/plain": [
       "[array([['A'],\n",
       "        ['E'],\n",
       "        ['C'],\n",
       "        ['G']], dtype='<U1'),\n",
       " array([['B'],\n",
       "        ['F'],\n",
       "        ['D'],\n",
       "        ['H']], dtype='<U1')]"
      ]
     },
     "execution_count": 19,
     "metadata": {},
     "output_type": "execute_result"
    }
   ],
   "source": [
    "arr5 = np.array_split(arr3, 2 , axis=1)\n",
    "arr5"
   ]
  }
 ],
 "metadata": {
  "kernelspec": {
   "display_name": "Python 3 (ipykernel)",
   "language": "python",
   "name": "python3"
  },
  "language_info": {
   "codemirror_mode": {
    "name": "ipython",
    "version": 3
   },
   "file_extension": ".py",
   "mimetype": "text/x-python",
   "name": "python",
   "nbconvert_exporter": "python",
   "pygments_lexer": "ipython3",
   "version": "3.9.7"
  }
 },
 "nbformat": 4,
 "nbformat_minor": 5
}
